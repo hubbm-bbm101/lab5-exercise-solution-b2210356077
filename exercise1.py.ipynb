{
 "cells": [
  {
   "cell_type": "code",
   "execution_count": 34,
   "id": "63c745d8",
   "metadata": {},
   "outputs": [
    {
     "name": "stdout",
     "output_type": "stream",
     "text": [
      "Enter a number here: 22\n",
      "187.0\n"
     ]
    }
   ],
   "source": [
    "N = int(input(\"Enter a number here: \"))\n",
    "\n",
    "def my_function(my_number):    \n",
    "    result1 = 0\n",
    "    result2 = 0\n",
    "    for i in range(1, my_number+1):\n",
    "        if i % 2 != 0:\n",
    "            result1 += i\n",
    "        else:\n",
    "            result2 += i\n",
    "            result3 = result2 / 2\n",
    "    \n",
    "    return result1 + result3\n",
    "\n",
    "the_result = my_function(N)\n",
    "print(the_result)\n",
    "            \n",
    "        \n",
    "        \n",
    "    \n",
    "    "
   ]
  }
 ],
 "metadata": {
  "kernelspec": {
   "display_name": "Python 3",
   "language": "python",
   "name": "python3"
  },
  "language_info": {
   "codemirror_mode": {
    "name": "ipython",
    "version": 3
   },
   "file_extension": ".py",
   "mimetype": "text/x-python",
   "name": "python",
   "nbconvert_exporter": "python",
   "pygments_lexer": "ipython3",
   "version": "3.8.8"
  }
 },
 "nbformat": 4,
 "nbformat_minor": 5
}
