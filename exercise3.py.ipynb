{
 "cells": [
  {
   "cell_type": "code",
   "execution_count": 8,
   "id": "8a22b4aa",
   "metadata": {},
   "outputs": [
    {
     "name": "stdout",
     "output_type": "stream",
     "text": [
      "Guess the number: 30\n",
      "Decrease your number.\n",
      "Guess the number: 22\n",
      "Decrease your number.\n",
      "Guess the number: 10\n",
      "Increase your number.\n",
      "Guess the number: 2\n",
      "Increase your number.\n",
      "Guess the number: 17\n",
      "Decrease your number.\n",
      "Guess the number: 14\n",
      "Increase your number.\n",
      "Guess the number: 15\n",
      "You found the number:  15\n"
     ]
    }
   ],
   "source": [
    "import random \n",
    "the_number = random.randint(1, 31)\n",
    "guess = int(input(\"Guess the number: \"))\n",
    "while guess != the_number:\n",
    "    if guess > the_number:\n",
    "        print(\"Decrease your number.\")\n",
    "        guess = int(input(\"Guess the number: \"))\n",
    "    elif guess < the_number:\n",
    "        print(\"Increase your number.\")\n",
    "        guess = int(input(\"Guess the number: \"))\n",
    "\n",
    "print(\"You found the number: \", the_number)\n"
   ]
  }
 ],
 "metadata": {
  "kernelspec": {
   "display_name": "Python 3",
   "language": "python",
   "name": "python3"
  },
  "language_info": {
   "codemirror_mode": {
    "name": "ipython",
    "version": 3
   },
   "file_extension": ".py",
   "mimetype": "text/x-python",
   "name": "python",
   "nbconvert_exporter": "python",
   "pygments_lexer": "ipython3",
   "version": "3.8.8"
  }
 },
 "nbformat": 4,
 "nbformat_minor": 5
}
