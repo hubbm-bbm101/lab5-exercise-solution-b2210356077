{
 "cells": [
  {
   "cell_type": "code",
   "execution_count": null,
   "id": "bc7eff5c",
   "metadata": {},
   "outputs": [],
   "source": [
    "def is_valid(email):\n",
    "    if \"@\" in email and \".\" in email:\n",
    "        return True\n",
    "    else:\n",
    "        return False\n",
    "    \n",
    "\n",
    "your_email = input(\"Enter your email here: \")\n",
    "result = is_valid(your_email)\n",
    "print(result)\n"
   ]
  }
 ],
 "metadata": {
  "kernelspec": {
   "display_name": "Python 3",
   "language": "python",
   "name": "python3"
  },
  "language_info": {
   "codemirror_mode": {
    "name": "ipython",
    "version": 3
   },
   "file_extension": ".py",
   "mimetype": "text/x-python",
   "name": "python",
   "nbconvert_exporter": "python",
   "pygments_lexer": "ipython3",
   "version": "3.8.8"
  }
 },
 "nbformat": 4,
 "nbformat_minor": 5
}
